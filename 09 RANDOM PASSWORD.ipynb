{
 "cells": [
  {
   "cell_type": "code",
   "execution_count": 2,
   "id": "456f5223",
   "metadata": {},
   "outputs": [
    {
     "name": "stdout",
     "output_type": "stream",
     "text": [
      "    ***WELCOME TO PASSWORD GENERATOR***\n",
      "Enter The Length Of Password:- 12\n",
      "L_Gv>hk%nDMN\n"
     ]
    }
   ],
   "source": [
    "import random\n",
    "import string\n",
    "print(\"    ***WELCOME TO PASSWORD GENERATOR***\")\n",
    "\n",
    "def main():\n",
    "    length = int(input(\"Enter The Length Of Password:- \"))\n",
    "\n",
    "    lowerD = string.ascii_lowercase\n",
    "    upperD = string.ascii_uppercase\n",
    "    digitD = string.digits\n",
    "    symbolD = string.punctuation\n",
    "\n",
    "    combine = lowerD + upperD + digitD + symbolD\n",
    "\n",
    "    x =random.sample(combine,length)\n",
    "    password = \"\".join(x)\n",
    "    print(password)\n",
    "main()    \n"
   ]
  },
  {
   "cell_type": "code",
   "execution_count": 4,
   "id": "b5c10bd4",
   "metadata": {},
   "outputs": [],
   "source": [
    "from tkinter import *\n",
    "import string\n",
    "import random\n",
    "\n",
    "def generator():\n",
    "    small_alphabets=string.ascii_lowercase\n",
    "    capital_alphabets=string.ascii_uppercase\n",
    "    numbers=string.digits\n",
    "    special_charecters=string.punctuation\n",
    "\n",
    "    all=small_alphabets+capital_alphabets+numbers+special_charecters\n",
    "    password_length=int(length_Box.get())\n",
    "\n",
    "    if choice.get()==1:\n",
    "        passwordField.insert(0,random.sample(small_alphabets,password_length))\n",
    "\n",
    "    if choice.get()==2:\n",
    "        passwordField.insert(0,random.sample(small_alphabets+capital_alphabets,password_length))\n",
    "\n",
    "    if choice.get()==3:\n",
    "        passwordField.insert(0,random.sample(all,password_length))\n",
    "\n",
    "\n",
    "def copy():\n",
    "    random_password=passwordField.get()\n",
    "    pyperclip.copy(random_password)\n",
    "\n",
    "root=Tk()\n",
    "root.config(bg='gray20')\n",
    "choice=IntVar()\n",
    "Font=('arial',13,'bold')\n",
    "passwordLabel=Label(root,text='Password Generator',font=('times new roman',20,'bold'),bg='gray20',fg='white')\n",
    "passwordLabel.grid(pady=10)\n",
    "weakradioButton=Radiobutton(root,text='Weak',value=1,variable=choice,font=Font)\n",
    "weakradioButton.grid(pady=5)\n",
    "\n",
    "mediumradioButton=Radiobutton(root,text='Medium',value=2,variable=choice,font=Font)\n",
    "mediumradioButton.grid(pady=5)\n",
    "\n",
    "strongradioButton=Radiobutton(root,text='Strong',value=3,variable=choice,font=Font)\n",
    "strongradioButton.grid(pady=5)\n",
    "\n",
    "lengthLabel=Label(root,text='Password Length',font=Font,bg='gray20',fg='white')\n",
    "lengthLabel.grid(pady=5)\n",
    "\n",
    "length_Box=Spinbox(root,from_=5,to_=18,width=5,font=Font)\n",
    "length_Box.grid(pady=5)\n",
    "\n",
    "generateButton=Button(root,text='Generate',font=Font,command=generator)\n",
    "generateButton.grid(pady=5)\n",
    "\n",
    "passwordField=Entry(root,width=25,bd=2,font=Font)\n",
    "passwordField.grid()\n",
    "\n",
    "copyButton=Button(root,text='Copy',font=Font,command=copy)\n",
    "copyButton.grid(pady=5)\n",
    "\n",
    "root.mainloop()\n"
   ]
  },
  {
   "cell_type": "code",
   "execution_count": null,
   "id": "7a051831",
   "metadata": {},
   "outputs": [],
   "source": []
  }
 ],
 "metadata": {
  "kernelspec": {
   "display_name": "Python 3 (ipykernel)",
   "language": "python",
   "name": "python3"
  },
  "language_info": {
   "codemirror_mode": {
    "name": "ipython",
    "version": 3
   },
   "file_extension": ".py",
   "mimetype": "text/x-python",
   "name": "python",
   "nbconvert_exporter": "python",
   "pygments_lexer": "ipython3",
   "version": "3.9.13"
  }
 },
 "nbformat": 4,
 "nbformat_minor": 5
}
